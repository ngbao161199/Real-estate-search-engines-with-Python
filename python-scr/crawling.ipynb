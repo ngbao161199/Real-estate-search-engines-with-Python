{
 "cells": [
  {
   "cell_type": "code",
   "execution_count": null,
   "metadata": {},
   "outputs": [],
   "source": [
    "from requests import get\n",
    "from bs4 import BeautifulSoup\n",
    "import pandas as pd\n",
    "\n",
    "# Lists to store the scraped data in\n",
    "titles = []\n",
    "districts = []\n",
    "prices = []\n",
    "areas = []\n",
    "bedrooms = []\n",
    "bathrooms = []\n",
    "incenses = []\n",
    "\n",
    "\n",
    "for number in range(1,40):\n",
    "    url = 'https://propzy.vn/mua/ban-nha-rieng-tphcm/p' + str(number)\n",
    "    response = get(url)\n",
    "\n",
    "    html_soup = BeautifulSoup(response.text,'html.parser')\n",
    "\n",
    "    real_estate = html_soup.find_all('div', class_ = 'bl-listing')\n",
    "\n",
    "\n",
    "    for container in real_estate:\n",
    "    \n",
    "        title = container.find_all('p')\n",
    "        #print(\"[title: ]\" + title + \"\\n\")\n",
    "        title = title[0].text\n",
    "        titles.append(title)\n",
    "\n",
    "    \n",
    "        district = container.find_all('div', class_ = 'bl-inline pull-right bl-district')\n",
    "        district  =  district[0].text.strip()\n",
    "        #print(\"[district: ]\" + district + \"\\n\")\n",
    "        districts.append(district)\n",
    "    \n",
    "        price = container.find_all('span', class_ = 'span-price')\n",
    "        price = price[0].text\n",
    "        #print(\"[price: ]\" + price + \"\\n\")\n",
    "        prices.append(price)\n",
    "    \n",
    "        area = container.find_all('span', class_ = 'span-acreage')\n",
    "        area = area[0].text\n",
    "        #print(\"[area:]\" + area + \"\\n\")\n",
    "        areas.append(area)\n",
    "\n",
    "        bedroom = container.find_all('span', class_ = 'elements bedroom')\n",
    "        bedroom = bedroom[0].text\n",
    "        bedrooms.append(bedroom)\n",
    "\n",
    "        bathroom = container.find_all('span', class_ = 'elements bathroom')\n",
    "        bathroom = bathroom[0].text\n",
    "        bathrooms.append(bathroom)\n",
    "\n",
    "        incense = container.find_all('span', class_ = 'elements incense')\n",
    "        incense = incense[0].text\n",
    "        incenses.append(incense)\n",
    "\n",
    "test_df = pd.DataFrame({'title' : titles, 'district' : districts, 'price': prices, 'area': areas, 'bedroom': bedrooms, 'bathroom': bathrooms, 'incense': incenses})\n",
    "test_df\n"
   ]
  },
  {
   "cell_type": "code",
   "execution_count": 5,
   "metadata": {},
   "outputs": [],
   "source": [
    "test_df.to_csv('data.csv')"
   ]
  },
  {
   "cell_type": "code",
   "execution_count": null,
   "metadata": {},
   "outputs": [],
   "source": []
  }
 ],
 "metadata": {
  "kernelspec": {
   "display_name": "Python 3",
   "language": "python",
   "name": "python3"
  },
  "language_info": {
   "codemirror_mode": {
    "name": "ipython",
    "version": 3
   },
   "file_extension": ".py",
   "mimetype": "text/x-python",
   "name": "python",
   "nbconvert_exporter": "python",
   "pygments_lexer": "ipython3",
   "version": "3.7.3"
  }
 },
 "nbformat": 4,
 "nbformat_minor": 2
}
